{
 "cells": [
  {
   "cell_type": "code",
   "execution_count": 1,
   "metadata": {},
   "outputs": [],
   "source": [
    "from scipy.spatial.transform import Rotation as R\n",
    "import numpy as np"
   ]
  },
  {
   "cell_type": "code",
   "execution_count": 7,
   "metadata": {},
   "outputs": [
    {
     "name": "stdout",
     "output_type": "stream",
     "text": [
      "a = [0.33900505 0.33900505 0.         0.87758256]\n",
      "b = [0.22489258 0.44978516 0.67467774 0.54030231]\n",
      "a followed by b [[-0.83342646 -0.00832022  0.55256775]\n",
      " [ 0.49811794  0.42171518  0.75765086]\n",
      " [-0.23933003  0.90669018 -0.34732413]]\n"
     ]
    }
   ],
   "source": [
    "axis_1 = np.array([1,1,0])\n",
    "axis_2 = np.array([1,2,3])\n",
    "axis_1 = axis_1/np.linalg.norm(axis_1)\n",
    "axis_2 = axis_2/np.linalg.norm(axis_2)\n",
    "\n",
    "a = R.from_rotvec(axis_1*1)\n",
    "b = R.from_rotvec(axis_2*2)\n",
    "\n",
    "print(f'a = {a.as_quat()}')\n",
    "print(f'b = {b.as_quat()}')\n",
    "print(f'a followed by b {(b*a).as_matrix()}')"
   ]
  },
  {
   "attachments": {},
   "cell_type": "markdown",
   "metadata": {},
   "source": [
    "## Javascript Example\n",
    "\n",
    "```js\n",
    "let axis_1 = [1,1,0]\n",
    "let axis_2 = [1,2,3]\n",
    "let l_1 = Math.hypot(...axis_1)\n",
    "let l_2 = Math.hypot(...axis_2)\n",
    "axis_1 = axis_1.map(x=>x/l_1)\n",
    "axis_2 = axis_2.map(x=>x/l_2)\n",
    "\n",
    "let a = Quaternion.fromAxisAngle(axis_1,1)\n",
    "let b = Quaternion.fromAxisAngle(axis_2,2)\n",
    "\n",
    "//b.mul(a) <=> a followed by b\n",
    "console.log(b.mul(a).toMatrix())\n",
    "```"
   ]
  },
  {
   "cell_type": "code",
   "execution_count": null,
   "metadata": {},
   "outputs": [],
   "source": []
  }
 ],
 "metadata": {
  "kernelspec": {
   "display_name": "Python 3",
   "language": "python",
   "name": "python3"
  },
  "language_info": {
   "codemirror_mode": {
    "name": "ipython",
    "version": 3
   },
   "file_extension": ".py",
   "mimetype": "text/x-python",
   "name": "python",
   "nbconvert_exporter": "python",
   "pygments_lexer": "ipython3",
   "version": "3.9.7"
  },
  "orig_nbformat": 4,
  "vscode": {
   "interpreter": {
    "hash": "aee8b7b246df8f9039afb4144a1f6fd8d2ca17a180786b69acc140d282b71a49"
   }
  }
 },
 "nbformat": 4,
 "nbformat_minor": 2
}
